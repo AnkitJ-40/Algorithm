{
  "nbformat": 4,
  "nbformat_minor": 0,
  "metadata": {
    "colab": {
      "name": "AJPractical8_Fingerprint.ipynb",
      "provenance": [],
      "include_colab_link": true
    },
    "kernelspec": {
      "name": "python3",
      "display_name": "Python 3"
    },
    "language_info": {
      "name": "python"
    }
  },
  "cells": [
    {
      "cell_type": "markdown",
      "metadata": {
        "id": "view-in-github",
        "colab_type": "text"
      },
      "source": [
        "<a href=\"https://colab.research.google.com/github/AnkitJ-40/Algorithm/blob/main/AJPractical8_Fingerprint.ipynb\" target=\"_parent\"><img src=\"https://colab.research.google.com/assets/colab-badge.svg\" alt=\"Open In Colab\"/></a>"
      ]
    },
    {
      "cell_type": "code",
      "execution_count": 1,
      "metadata": {
        "colab": {
          "base_uri": "https://localhost:8080/"
        },
        "id": "ege_rc4S-NaJ",
        "outputId": "b5b1d165-9fe4-43df-ad63-d8097f0d51f5"
      },
      "outputs": [
        {
          "output_type": "stream",
          "name": "stdout",
          "text": [
            "Enter the number of sequence: 4\n",
            "Enter all the sequences\n",
            "attcg\n",
            "cttga\n",
            "gattc\n",
            "tteac\n",
            "\tA \tC \tT \tG\n",
            "\n",
            "\t0\t0\t0\t0\n"
          ]
        }
      ],
      "source": [
        "def solve_fingerprint(seq_list,no_of_col):\n",
        "    seq_dict=dict()\n",
        "    for colnum in range(no_of_col):\n",
        "        counta,countc,countt,countg=0,0,0,0\n",
        "        for colseq in seq_list:\n",
        "            if colseq[colnum]=='A':\n",
        "                counta+=1\n",
        "            elif colseq[colnum]=='T':\n",
        "                countt+=1\n",
        "            elif colseq[colnum]=='C':\n",
        "                countc+=1\n",
        "            elif colseq[colnum]=='G':\n",
        "                countg+=1\n",
        "        seq_dict[colnum]=[counta,countc,countt,countg]\n",
        "    display_results(seq_dict)\n",
        "def display_results(seq_dict):\n",
        "    print(\"\\tA \\tC \\tT \\tG\")\n",
        "    for key in seq_dict:\n",
        "        print(\"\\n\",*seq_dict[key],sep=\"\\t\")\n",
        "no_of_seq=int(input(\"Enter the number of sequence: \"))\n",
        "print(\"Enter all the sequences\")\n",
        "seq_list=[]\n",
        "for _ in range(no_of_seq):\n",
        "    seq_list.append(list(map(str, input(\"\").split())))\n",
        "solve_fingerprint(seq_list,len(seq_list[0]))"
      ]
    }
  ]
}